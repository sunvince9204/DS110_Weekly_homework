{
  "cells": [
    {
      "cell_type": "markdown",
      "metadata": {
        "id": "view-in-github",
        "colab_type": "text"
      },
      "source": [
        "<a href=\"https://colab.research.google.com/github/sunvince9204/DS110_Weekly_homework/blob/main/Vincent_Sun_DS110_F23_HW2.ipynb\" target=\"_parent\"><img src=\"https://colab.research.google.com/assets/colab-badge.svg\" alt=\"Open In Colab\"/></a>"
      ]
    },
    {
      "cell_type": "markdown",
      "metadata": {
        "id": "A7mpivJPWaNa"
      },
      "source": [
        "# Problem 1:  Ebi Sushi (28 pts: 6,10,12)\n",
        "\n",
        "My wife and I went to a sushi place called Ebi Sushi recently.  Here are the items that were on the receipt."
      ]
    },
    {
      "cell_type": "code",
      "execution_count": null,
      "metadata": {
        "id": "cVAqqK8OWW4O"
      },
      "outputs": [],
      "source": [
        "ebi_receipt = [('Edamame', 6), ('Chirashi', 18.99), ('Inari', 3.60), ('Veggie House Roll', 11), ('Broccoli Roll', 7)]"
      ]
    },
    {
      "cell_type": "markdown",
      "metadata": {
        "id": "786zDEMfYYAG"
      },
      "source": [
        "a) (8 pts) Write code below that iterates through the receipt to find the most expensive item, then prints that item."
      ]
    },
    {
      "cell_type": "code",
      "execution_count": null,
      "metadata": {
        "colab": {
          "base_uri": "https://localhost:8080/"
        },
        "id": "YkPnDwkeYn0S",
        "outputId": "1a5dd318-b92d-4fb3-cbbb-5d181b3aa360"
      },
      "outputs": [
        {
          "output_type": "stream",
          "name": "stdout",
          "text": [
            "Chirashi\n"
          ]
        }
      ],
      "source": [
        "# set tracker variable to 0\n",
        "costly = 0\n",
        "#set most_exp variable to empty string\n",
        "most_exp = ''\n",
        "#iterate through every index to get the hishgest cost and asign that to the corresponding item\n",
        "for item, price in ebi_receipt:\n",
        "  if price > costly:\n",
        "    costly = price\n",
        "    most_exp = item\n",
        "print(most_exp)\n",
        "\n"
      ]
    },
    {
      "cell_type": "markdown",
      "metadata": {
        "id": "anOn3kVwm2nY"
      },
      "source": [
        "b) (10 pts) When we went to Ebi Sushi, the bottom of our receipt mentioned different possible total amounts for different tip percentages, which is a nice touch.  Write code that uses a iterates through a list of tip percentages *tips* and prints the total amount of *base*+tip for each tip amount.\n",
        "\n",
        "For example, if *base* was 201.15 and *tips* were [15, 18, 20], then the output would be\n",
        "\n",
        "15%: 231.32\n",
        "\n",
        "18%: 237.36\n",
        "\n",
        "20%: 241.38\n",
        "\n",
        "Use round(value, 2) to round to two places after the decimal (pennies) in each case.\n",
        "\n"
      ]
    },
    {
      "cell_type": "code",
      "execution_count": null,
      "metadata": {
        "colab": {
          "base_uri": "https://localhost:8080/"
        },
        "id": "H7B_oQ_cnnVF",
        "outputId": "2745b916-2ad9-4348-bc3e-db04592cd310"
      },
      "outputs": [
        {
          "output_type": "stream",
          "name": "stdout",
          "text": [
            "231.32\n",
            "237.36\n",
            "241.38\n"
          ]
        }
      ],
      "source": [
        "tips = [15, 18, 20]\n",
        "base = 201.15\n",
        "\n",
        "# Print total amounts for each tip percent in given list\n",
        "for i in tips:\n",
        "  print(round(((i*.01)*base) + base, 2))"
      ]
    },
    {
      "cell_type": "markdown",
      "metadata": {
        "id": "6K6_NhKdZQMc"
      },
      "source": [
        "c) (10 pts) The following list notes whether Sandra ('S') or Kevin ('K') ordered each item.  Write code that iterates through the list *who_ordered* of (item, amount, who_purchased) and prints a tuple with (amount Sandra ordered, amount Kevin ordered).  For example, if *who_ordered* were set to list *who_ordered2* below, the output would be (11, 15).\n",
        "\n",
        "You'll want to maintain two variables as you iterate through the list, and use a conditional (if/else) to decide which total to add to.  You can assume all the orderer codes are \"S\" or \"K\".\n",
        "\n"
      ]
    },
    {
      "cell_type": "code",
      "execution_count": null,
      "metadata": {
        "id": "yWDi25leCLKO"
      },
      "outputs": [],
      "source": [
        "who_ordered = [('Edamame', 6, 'S'), ('Chirashi', 18.99, 'K'), ('Inari', 3.60, 'S'), ('Veggie House Roll', 11, 'S'), ('Broccoli Roll', 7, 'S')]\n",
        "who_ordered2 = [('thing1', 5, 'K'),('thing2',5,'S'),('thing3',10,'K'),('thing4',6,'S')]"
      ]
    },
    {
      "cell_type": "code",
      "execution_count": null,
      "metadata": {
        "colab": {
          "base_uri": "https://localhost:8080/"
        },
        "id": "64gSWMUwaGx5",
        "outputId": "d83a66f1-74bf-4f7b-b7cd-548d09bb5bb0"
      },
      "outputs": [
        {
          "output_type": "stream",
          "name": "stdout",
          "text": [
            "(11, 15)\n"
          ]
        }
      ],
      "source": [
        "#set variable K and S to 0\n",
        "K = 0\n",
        "S = 0\n",
        "#itterate throught the list and add amount to the respective who\n",
        "for thing, amount, who in who_ordered2:\n",
        "  if who == 'K':\n",
        "    K += amount\n",
        "  else:\n",
        "    S += amount\n",
        "print((S,K))"
      ]
    },
    {
      "cell_type": "markdown",
      "metadata": {
        "id": "tzE9xO_Xbg_I"
      },
      "source": [
        "# Problem 2:  Graphing (22 pts: 6, 10, 6)\n",
        "\n",
        "\n",
        "\n",
        "\n"
      ]
    },
    {
      "cell_type": "markdown",
      "metadata": {
        "id": "5DzYB28N6NHp"
      },
      "source": [
        "a, 6 pts) Over the course of 7 days, the average gas price across Massachusetts fluctuates; these prices are given in the *gas_prices* variable.  Plot the prices with a line graph in matplotlib.  (The x axis, day, ranges from 1 to 7.)"
      ]
    },
    {
      "cell_type": "code",
      "execution_count": null,
      "metadata": {
        "colab": {
          "base_uri": "https://localhost:8080/",
          "height": 447
        },
        "id": "ZIgeAavB6yTt",
        "outputId": "57025ab7-c528-47a9-9490-06aa96dfc549"
      },
      "outputs": [
        {
          "output_type": "execute_result",
          "data": {
            "text/plain": [
              "[<matplotlib.lines.Line2D at 0x79abfcd4e890>]"
            ]
          },
          "metadata": {},
          "execution_count": 12
        },
        {
          "output_type": "display_data",
          "data": {
            "text/plain": [
              "<Figure size 640x480 with 1 Axes>"
            ],
            "image/png": "[encoded data removed]"
          },
          "metadata": {}
        }
      ],
      "source": [
        "import matplotlib.pyplot as plt\n",
        "import numpy as np\n",
        "\n",
        "gas_prices = [4.80, 5.05, 4.90, 5.10, 5.20, 5.15, 5.30]\n",
        "#create new list named days\n",
        "days =[]\n",
        "#use a for loop to create a list from 1 to 7\n",
        "for x in range (1,8):\n",
        "  days.append(x)\n",
        "#plot graph with x vaues as days and y value as gas_prices\n",
        "plt.plot(days, gas_prices)\n"
      ]
    },
    {
      "cell_type": "markdown",
      "metadata": {
        "id": "7JcOaozq8Bek"
      },
      "source": [
        "b, 10pts) Plot the same graph again but with additional trendline in red of y = x/12 + 4.75, plotted as a line graph on top of the original points, which should now be a scatter plot.  (Hint:  You just need two points on the line to plot the line.)"
      ]
    },
    {
      "cell_type": "code",
      "execution_count": null,
      "metadata": {
        "colab": {
          "base_uri": "https://localhost:8080/",
          "height": 447
        },
        "id": "No84bXQd7POi",
        "outputId": "11bd6f22-61a0-4678-ec69-2e553243e1d1"
      },
      "outputs": [
        {
          "output_type": "execute_result",
          "data": {
            "text/plain": [
              "[<matplotlib.lines.Line2D at 0x79abfcc14a60>]"
            ]
          },
          "metadata": {},
          "execution_count": 13
        },
        {
          "output_type": "display_data",
          "data": {
            "text/plain": [
              "<Figure size 640x480 with 1 Axes>"
            ],
            "image/png": "[encoded data removed]"
          },
          "metadata": {}
        }
      ],
      "source": [
        "#create y_value variable to store the y value\n",
        "y_value = []\n",
        "#uses the function to itterate through the days list and compute the y_value\n",
        "for i in days:\n",
        "  y_value.append(i/12 + 4.75)\n",
        "plt.plot(y_value, 'r')\n",
        "plt.plot(gas_prices, 'o')"
      ]
    },
    {
      "cell_type": "markdown",
      "metadata": {
        "id": "ue5ApzHM__FK"
      },
      "source": [
        "c, 6 pts) On a new graph, plot the function $y = 10x^2$ from 0 to 5.  Use np.linspace() to get at least 100 samples, then plot it as a line graph."
      ]
    },
    {
      "cell_type": "code",
      "execution_count": null,
      "metadata": {
        "colab": {
          "base_uri": "https://localhost:8080/",
          "height": 447
        },
        "id": "T8e_Is7PAVx6",
        "outputId": "e454af0b-5d29-4f8f-a130-4b3136c8c5cc"
      },
      "outputs": [
        {
          "output_type": "execute_result",
          "data": {
            "text/plain": [
              "[<matplotlib.lines.Line2D at 0x79abfcc8a470>]"
            ]
          },
          "metadata": {},
          "execution_count": 14
        },
        {
          "output_type": "display_data",
          "data": {
            "text/plain": [
              "<Figure size 640x480 with 1 Axes>"
            ],
            "image/png": "[encoded data removed]"
          },
          "metadata": {}
        }
      ],
      "source": [
        "#establish x and y points\n",
        "#x points from 1 to 5 and 100 evenly spaced points\n",
        "x_points = np.linspace(0,5,100)\n",
        "#compute the y points based on each x point 1 to 5\n",
        "y_points = 10*(x_points**2)\n",
        "plt.plot(x_points, y_points)\n"
      ]
    },
    {
      "cell_type": "markdown",
      "metadata": {
        "id": "F1Irs2kvDCT0"
      },
      "source": [
        "# Problem 3:  Matrices (10 points)\n",
        "\n",
        "10pts) Find the **product** AB, where A is a 2x100 matrix with all zeros in the first row and all ones in the second row, and B is a 100x2 matrix of all 1's.  Use np.concatenate, np.zeros, and np.ones to create the matrix A, and np.ones to create matrix B.  (Recall an m x n matrix has *m* rows and *n* columns.)  You may need to Google documentation for np.concatenate and np.ones."
      ]
    },
    {
      "cell_type": "code",
      "execution_count": null,
      "metadata": {
        "colab": {
          "base_uri": "https://localhost:8080/"
        },
        "id": "-KNGwuiIDq5g",
        "outputId": "4037dbc0-31ce-463e-fcf5-eb2b594c5ea7"
      },
      "outputs": [
        {
          "output_type": "stream",
          "name": "stdout",
          "text": [
            "[[  0.   0.]\n",
            " [100. 100.]]\n"
          ]
        }
      ],
      "source": [
        "import numpy as np\n",
        "#create first matrix by concatenating 1st row of zeros to second rows of 1s\n",
        "ones = np.ones((1,100))\n",
        "zeros = np.zeros((1,100))\n",
        "#axis = 0 means put b on top of a\n",
        "matrixA = np.concatenate((zeros, ones), axis = 0)\n",
        "#matrix A should have dimensions (2, 100)\n",
        "#matrix B should have dimensions (100, 2)\n",
        "matrixB = np.ones((100,2))\n",
        "#productAB should have dimensions (2, 2) bc mxn = m rows and n columns\n",
        "productAB = matrixA@matrixB\n",
        "print(productAB)"
      ]
    }
  ],
  "metadata": {
    "colab": {
      "provenance": [],
      "include_colab_link": true
    },
    "kernelspec": {
      "display_name": "Python 3",
      "language": "python",
      "name": "python3"
    },
    "language_info": {
      "codemirror_mode": {
        "name": "ipython",
        "version": 3
      },
      "file_extension": ".py",
      "mimetype": "text/x-python",
      "name": "python",
      "nbconvert_exporter": "python",
      "pygments_lexer": "ipython3",
      "version": "3.8.8"
    }
  },
  "nbformat": 4,
  "nbformat_minor": 0
}